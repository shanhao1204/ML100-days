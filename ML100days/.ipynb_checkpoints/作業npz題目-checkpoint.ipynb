{
 "cells": [
  {
   "cell_type": "markdown",
   "metadata": {
    "id": "YWb4mnd4fqAG"
   },
   "source": [
    "作業目標<br>\n",
    "讀取存取陣列資料<br>\n",
    "作業重點<br>\n",
    "多陣列存一起需要存成npz，讀取須注意npz中有多個陣列"
   ]
  },
  {
   "cell_type": "markdown",
   "metadata": {
    "id": "UXV4vW6IfsW6"
   },
   "source": [
    "題目:<br>\n",
    "1. 將下兩列array存成npz檔<br>\n",
    "array1 = np.array(range(30))<br>\n",
    "array2 = np.array([2,3,5])<br>\n",
    "2. 讀取剛剛的npz檔，加入下列array一起存成新的npz檔array3 = np.array([[4,5,6],[1,2,3]])\n"
   ]
  },
  {
   "cell_type": "code",
   "execution_count": 1,
   "metadata": {},
   "outputs": [],
   "source": [
    "import numpy as np"
   ]
  },
  {
   "cell_type": "code",
   "execution_count": 2,
   "metadata": {
    "id": "1mZQSUx_fry7"
   },
   "outputs": [],
   "source": [
    "#. 將下兩列array存成npz檔\n",
    "array1 = np.array(range(30))\n",
    "array2 = np.array([2,3,5])\n",
    "np.savez('my_homework',a1=array1,a2=array2)"
   ]
  },
  {
   "cell_type": "code",
   "execution_count": 3,
   "metadata": {},
   "outputs": [
    {
     "ename": "NameError",
     "evalue": "name 'my_homework' is not defined",
     "output_type": "error",
     "traceback": [
      "\u001b[0;31m---------------------------------------------------------------------------\u001b[0m",
      "\u001b[0;31mNameError\u001b[0m                                 Traceback (most recent call last)",
      "\u001b[0;32m<ipython-input-3-bf6097f8a7f6>\u001b[0m in \u001b[0;36m<module>\u001b[0;34m\u001b[0m\n\u001b[0;32m----> 1\u001b[0;31m \u001b[0mnp\u001b[0m\u001b[0;34m.\u001b[0m\u001b[0mload\u001b[0m\u001b[0;34m(\u001b[0m\u001b[0mmy_homework\u001b[0m\u001b[0;34m.\u001b[0m\u001b[0mnpz\u001b[0m\u001b[0;34m)\u001b[0m\u001b[0;34m\u001b[0m\u001b[0;34m\u001b[0m\u001b[0m\n\u001b[0m",
      "\u001b[0;31mNameError\u001b[0m: name 'my_homework' is not defined"
     ]
    }
   ],
   "source": [
    "np.load(my_homework.npz)"
   ]
  },
  {
   "cell_type": "code",
   "execution_count": null,
   "metadata": {},
   "outputs": [],
   "source": []
  },
  {
   "cell_type": "code",
   "execution_count": null,
   "metadata": {
    "id": "Ie1TGcssiIDN"
   },
   "outputs": [],
   "source": [
    "#2. 讀取剛剛的npz檔，加入下列array一起存成新的npz檔\n",
    "array3 = np.array([[4,5,6],[1,2,3]])"
   ]
  }
 ],
 "metadata": {
  "colab": {
   "collapsed_sections": [],
   "name": "作業Hong題目.ipynb",
   "provenance": []
  },
  "kernelspec": {
   "display_name": "Python 3",
   "language": "python",
   "name": "python3"
  },
  "language_info": {
   "codemirror_mode": {
    "name": "ipython",
    "version": 3
   },
   "file_extension": ".py",
   "mimetype": "text/x-python",
   "name": "python",
   "nbconvert_exporter": "python",
   "pygments_lexer": "ipython3",
   "version": "3.8.5"
  }
 },
 "nbformat": 4,
 "nbformat_minor": 1
}
