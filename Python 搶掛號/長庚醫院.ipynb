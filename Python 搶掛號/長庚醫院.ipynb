{
 "cells": [
  {
   "cell_type": "code",
   "execution_count": 9,
   "metadata": {},
   "outputs": [],
   "source": [
    "import cv2 as cv\n",
    "from PIL import Image\n",
    "import numpy as np\n",
    "import pytesseract\n",
    "from selenium import webdriver\n",
    "from selenium.webdriver.common.keys import Keys\n",
    "import time\n",
    "from selenium.webdriver.chrome.options import Options\n",
    "import base64"
   ]
  },
  {
   "cell_type": "code",
   "execution_count": null,
   "metadata": {},
   "outputs": [],
   "source": [
    "#週一：羅福松、吳佑佑、\n",
    "#週二：林偉哲\n",
    "#週三：羅福松\n",
    "#週四：羅福松、陳訓徹、徐郭堯\n",
    "#週五：\n",
    "#週六："
   ]
  },
  {
   "cell_type": "code",
   "execution_count": 29,
   "metadata": {},
   "outputs": [
    {
     "name": "stdout",
     "output_type": "stream",
     "text": [
      "請選擇醫師：吳佑佑\n",
      "請輸入身分證：H125073945\n",
      "生日(範例：出生日期為1985年11月25日，請輸入19851125)：19971204\n"
     ]
    }
   ],
   "source": [
    "doctor = input('請選擇醫師：')\n",
    "ID = input('請輸入身分證：')\n",
    "birth = input('生日(範例：出生日期為1985年11月25日，請輸入19851125)：')"
   ]
  },
  {
   "cell_type": "code",
   "execution_count": 30,
   "metadata": {},
   "outputs": [
    {
     "ename": "NoSuchWindowException",
     "evalue": "Message: no such window: target window already closed\nfrom unknown error: web view not found\n  (Session info: chrome=92.0.4515.159)\n",
     "output_type": "error",
     "traceback": [
      "\u001b[0;31m---------------------------------------------------------------------------\u001b[0m",
      "\u001b[0;31mNoSuchWindowException\u001b[0m                     Traceback (most recent call last)",
      "\u001b[0;32m<ipython-input-30-c94db33b0fc6>\u001b[0m in \u001b[0;36m<module>\u001b[0;34m\u001b[0m\n\u001b[1;32m     40\u001b[0m     \u001b[0;32mtry\u001b[0m\u001b[0;34m:\u001b[0m\u001b[0;34m\u001b[0m\u001b[0;34m\u001b[0m\u001b[0m\n\u001b[0;32m---> 41\u001b[0;31m         \u001b[0mdriver\u001b[0m\u001b[0;34m.\u001b[0m\u001b[0mfind_element_by_link_text\u001b[0m\u001b[0;34m(\u001b[0m\u001b[0msearch\u001b[0m\u001b[0;34m)\u001b[0m\u001b[0;34m.\u001b[0m\u001b[0mclick\u001b[0m\u001b[0;34m(\u001b[0m\u001b[0;34m)\u001b[0m\u001b[0;34m\u001b[0m\u001b[0;34m\u001b[0m\u001b[0m\n\u001b[0m\u001b[1;32m     42\u001b[0m         \u001b[0;32mbreak\u001b[0m\u001b[0;34m\u001b[0m\u001b[0;34m\u001b[0m\u001b[0m\n",
      "\u001b[0;32m~/opt/anaconda3/lib/python3.8/site-packages/selenium/webdriver/remote/webdriver.py\u001b[0m in \u001b[0;36mfind_element_by_link_text\u001b[0;34m(self, link_text)\u001b[0m\n\u001b[1;32m    427\u001b[0m         \"\"\"\n\u001b[0;32m--> 428\u001b[0;31m         \u001b[0;32mreturn\u001b[0m \u001b[0mself\u001b[0m\u001b[0;34m.\u001b[0m\u001b[0mfind_element\u001b[0m\u001b[0;34m(\u001b[0m\u001b[0mby\u001b[0m\u001b[0;34m=\u001b[0m\u001b[0mBy\u001b[0m\u001b[0;34m.\u001b[0m\u001b[0mLINK_TEXT\u001b[0m\u001b[0;34m,\u001b[0m \u001b[0mvalue\u001b[0m\u001b[0;34m=\u001b[0m\u001b[0mlink_text\u001b[0m\u001b[0;34m)\u001b[0m\u001b[0;34m\u001b[0m\u001b[0;34m\u001b[0m\u001b[0m\n\u001b[0m\u001b[1;32m    429\u001b[0m \u001b[0;34m\u001b[0m\u001b[0m\n",
      "\u001b[0;32m~/opt/anaconda3/lib/python3.8/site-packages/selenium/webdriver/remote/webdriver.py\u001b[0m in \u001b[0;36mfind_element\u001b[0;34m(self, by, value)\u001b[0m\n\u001b[1;32m    975\u001b[0m                 \u001b[0mvalue\u001b[0m \u001b[0;34m=\u001b[0m \u001b[0;34m'[name=\"%s\"]'\u001b[0m \u001b[0;34m%\u001b[0m \u001b[0mvalue\u001b[0m\u001b[0;34m\u001b[0m\u001b[0;34m\u001b[0m\u001b[0m\n\u001b[0;32m--> 976\u001b[0;31m         return self.execute(Command.FIND_ELEMENT, {\n\u001b[0m\u001b[1;32m    977\u001b[0m             \u001b[0;34m'using'\u001b[0m\u001b[0;34m:\u001b[0m \u001b[0mby\u001b[0m\u001b[0;34m,\u001b[0m\u001b[0;34m\u001b[0m\u001b[0;34m\u001b[0m\u001b[0m\n",
      "\u001b[0;32m~/opt/anaconda3/lib/python3.8/site-packages/selenium/webdriver/remote/webdriver.py\u001b[0m in \u001b[0;36mexecute\u001b[0;34m(self, driver_command, params)\u001b[0m\n\u001b[1;32m    320\u001b[0m         \u001b[0;32mif\u001b[0m \u001b[0mresponse\u001b[0m\u001b[0;34m:\u001b[0m\u001b[0;34m\u001b[0m\u001b[0;34m\u001b[0m\u001b[0m\n\u001b[0;32m--> 321\u001b[0;31m             \u001b[0mself\u001b[0m\u001b[0;34m.\u001b[0m\u001b[0merror_handler\u001b[0m\u001b[0;34m.\u001b[0m\u001b[0mcheck_response\u001b[0m\u001b[0;34m(\u001b[0m\u001b[0mresponse\u001b[0m\u001b[0;34m)\u001b[0m\u001b[0;34m\u001b[0m\u001b[0;34m\u001b[0m\u001b[0m\n\u001b[0m\u001b[1;32m    322\u001b[0m             response['value'] = self._unwrap_value(\n",
      "\u001b[0;32m~/opt/anaconda3/lib/python3.8/site-packages/selenium/webdriver/remote/errorhandler.py\u001b[0m in \u001b[0;36mcheck_response\u001b[0;34m(self, response)\u001b[0m\n\u001b[1;32m    241\u001b[0m             \u001b[0;32mraise\u001b[0m \u001b[0mexception_class\u001b[0m\u001b[0;34m(\u001b[0m\u001b[0mmessage\u001b[0m\u001b[0;34m,\u001b[0m \u001b[0mscreen\u001b[0m\u001b[0;34m,\u001b[0m \u001b[0mstacktrace\u001b[0m\u001b[0;34m,\u001b[0m \u001b[0malert_text\u001b[0m\u001b[0;34m)\u001b[0m\u001b[0;34m\u001b[0m\u001b[0;34m\u001b[0m\u001b[0m\n\u001b[0;32m--> 242\u001b[0;31m         \u001b[0;32mraise\u001b[0m \u001b[0mexception_class\u001b[0m\u001b[0;34m(\u001b[0m\u001b[0mmessage\u001b[0m\u001b[0;34m,\u001b[0m \u001b[0mscreen\u001b[0m\u001b[0;34m,\u001b[0m \u001b[0mstacktrace\u001b[0m\u001b[0;34m)\u001b[0m\u001b[0;34m\u001b[0m\u001b[0;34m\u001b[0m\u001b[0m\n\u001b[0m\u001b[1;32m    243\u001b[0m \u001b[0;34m\u001b[0m\u001b[0m\n",
      "\u001b[0;31mNoSuchWindowException\u001b[0m: Message: no such window: target window already closed\nfrom unknown error: web view not found\n  (Session info: chrome=92.0.4515.159)\n",
      "\nDuring handling of the above exception, another exception occurred:\n",
      "\u001b[0;31mNoSuchWindowException\u001b[0m                     Traceback (most recent call last)",
      "\u001b[0;32m<ipython-input-30-c94db33b0fc6>\u001b[0m in \u001b[0;36m<module>\u001b[0;34m\u001b[0m\n\u001b[1;32m     42\u001b[0m         \u001b[0;32mbreak\u001b[0m\u001b[0;34m\u001b[0m\u001b[0;34m\u001b[0m\u001b[0m\n\u001b[1;32m     43\u001b[0m     \u001b[0;32mexcept\u001b[0m\u001b[0;34m:\u001b[0m\u001b[0;34m\u001b[0m\u001b[0;34m\u001b[0m\u001b[0m\n\u001b[0;32m---> 44\u001b[0;31m         \u001b[0mdriver\u001b[0m\u001b[0;34m.\u001b[0m\u001b[0mrefresh\u001b[0m\u001b[0;34m(\u001b[0m\u001b[0;34m)\u001b[0m\u001b[0;34m\u001b[0m\u001b[0;34m\u001b[0m\u001b[0m\n\u001b[0m\u001b[1;32m     45\u001b[0m \u001b[0;34m\u001b[0m\u001b[0m\n\u001b[1;32m     46\u001b[0m \u001b[0mcaptcha\u001b[0m \u001b[0;34m=\u001b[0m \u001b[0mget_image_text\u001b[0m\u001b[0;34m(\u001b[0m\u001b[0;34m)\u001b[0m\u001b[0;34m\u001b[0m\u001b[0;34m\u001b[0m\u001b[0m\n",
      "\u001b[0;32m~/opt/anaconda3/lib/python3.8/site-packages/selenium/webdriver/remote/webdriver.py\u001b[0m in \u001b[0;36mrefresh\u001b[0;34m(self)\u001b[0m\n\u001b[1;32m    829\u001b[0m             \u001b[0mdriver\u001b[0m\u001b[0;34m.\u001b[0m\u001b[0mrefresh\u001b[0m\u001b[0;34m(\u001b[0m\u001b[0;34m)\u001b[0m\u001b[0;34m\u001b[0m\u001b[0;34m\u001b[0m\u001b[0m\n\u001b[1;32m    830\u001b[0m         \"\"\"\n\u001b[0;32m--> 831\u001b[0;31m         \u001b[0mself\u001b[0m\u001b[0;34m.\u001b[0m\u001b[0mexecute\u001b[0m\u001b[0;34m(\u001b[0m\u001b[0mCommand\u001b[0m\u001b[0;34m.\u001b[0m\u001b[0mREFRESH\u001b[0m\u001b[0;34m)\u001b[0m\u001b[0;34m\u001b[0m\u001b[0;34m\u001b[0m\u001b[0m\n\u001b[0m\u001b[1;32m    832\u001b[0m \u001b[0;34m\u001b[0m\u001b[0m\n\u001b[1;32m    833\u001b[0m     \u001b[0;31m# Options\u001b[0m\u001b[0;34m\u001b[0m\u001b[0;34m\u001b[0m\u001b[0;34m\u001b[0m\u001b[0m\n",
      "\u001b[0;32m~/opt/anaconda3/lib/python3.8/site-packages/selenium/webdriver/remote/webdriver.py\u001b[0m in \u001b[0;36mexecute\u001b[0;34m(self, driver_command, params)\u001b[0m\n\u001b[1;32m    319\u001b[0m         \u001b[0mresponse\u001b[0m \u001b[0;34m=\u001b[0m \u001b[0mself\u001b[0m\u001b[0;34m.\u001b[0m\u001b[0mcommand_executor\u001b[0m\u001b[0;34m.\u001b[0m\u001b[0mexecute\u001b[0m\u001b[0;34m(\u001b[0m\u001b[0mdriver_command\u001b[0m\u001b[0;34m,\u001b[0m \u001b[0mparams\u001b[0m\u001b[0;34m)\u001b[0m\u001b[0;34m\u001b[0m\u001b[0;34m\u001b[0m\u001b[0m\n\u001b[1;32m    320\u001b[0m         \u001b[0;32mif\u001b[0m \u001b[0mresponse\u001b[0m\u001b[0;34m:\u001b[0m\u001b[0;34m\u001b[0m\u001b[0;34m\u001b[0m\u001b[0m\n\u001b[0;32m--> 321\u001b[0;31m             \u001b[0mself\u001b[0m\u001b[0;34m.\u001b[0m\u001b[0merror_handler\u001b[0m\u001b[0;34m.\u001b[0m\u001b[0mcheck_response\u001b[0m\u001b[0;34m(\u001b[0m\u001b[0mresponse\u001b[0m\u001b[0;34m)\u001b[0m\u001b[0;34m\u001b[0m\u001b[0;34m\u001b[0m\u001b[0m\n\u001b[0m\u001b[1;32m    322\u001b[0m             response['value'] = self._unwrap_value(\n\u001b[1;32m    323\u001b[0m                 response.get('value', None))\n",
      "\u001b[0;32m~/opt/anaconda3/lib/python3.8/site-packages/selenium/webdriver/remote/errorhandler.py\u001b[0m in \u001b[0;36mcheck_response\u001b[0;34m(self, response)\u001b[0m\n\u001b[1;32m    240\u001b[0m                 \u001b[0malert_text\u001b[0m \u001b[0;34m=\u001b[0m \u001b[0mvalue\u001b[0m\u001b[0;34m[\u001b[0m\u001b[0;34m'alert'\u001b[0m\u001b[0;34m]\u001b[0m\u001b[0;34m.\u001b[0m\u001b[0mget\u001b[0m\u001b[0;34m(\u001b[0m\u001b[0;34m'text'\u001b[0m\u001b[0;34m)\u001b[0m\u001b[0;34m\u001b[0m\u001b[0;34m\u001b[0m\u001b[0m\n\u001b[1;32m    241\u001b[0m             \u001b[0;32mraise\u001b[0m \u001b[0mexception_class\u001b[0m\u001b[0;34m(\u001b[0m\u001b[0mmessage\u001b[0m\u001b[0;34m,\u001b[0m \u001b[0mscreen\u001b[0m\u001b[0;34m,\u001b[0m \u001b[0mstacktrace\u001b[0m\u001b[0;34m,\u001b[0m \u001b[0malert_text\u001b[0m\u001b[0;34m)\u001b[0m\u001b[0;34m\u001b[0m\u001b[0;34m\u001b[0m\u001b[0m\n\u001b[0;32m--> 242\u001b[0;31m         \u001b[0;32mraise\u001b[0m \u001b[0mexception_class\u001b[0m\u001b[0;34m(\u001b[0m\u001b[0mmessage\u001b[0m\u001b[0;34m,\u001b[0m \u001b[0mscreen\u001b[0m\u001b[0;34m,\u001b[0m \u001b[0mstacktrace\u001b[0m\u001b[0;34m)\u001b[0m\u001b[0;34m\u001b[0m\u001b[0;34m\u001b[0m\u001b[0m\n\u001b[0m\u001b[1;32m    243\u001b[0m \u001b[0;34m\u001b[0m\u001b[0m\n\u001b[1;32m    244\u001b[0m     \u001b[0;32mdef\u001b[0m \u001b[0m_value_or_default\u001b[0m\u001b[0;34m(\u001b[0m\u001b[0mself\u001b[0m\u001b[0;34m,\u001b[0m \u001b[0mobj\u001b[0m\u001b[0;34m,\u001b[0m \u001b[0mkey\u001b[0m\u001b[0;34m,\u001b[0m \u001b[0mdefault\u001b[0m\u001b[0;34m)\u001b[0m\u001b[0;34m:\u001b[0m\u001b[0;34m\u001b[0m\u001b[0;34m\u001b[0m\u001b[0m\n",
      "\u001b[0;31mNoSuchWindowException\u001b[0m: Message: no such window: target window already closed\nfrom unknown error: web view not found\n  (Session info: chrome=92.0.4515.159)\n"
     ]
    }
   ],
   "source": [
    "def get_image_text():\n",
    "    img_base64 = driver.execute_script(\"\"\"\n",
    "        var ele = arguments[0];\n",
    "        var cnv = document.createElement('canvas');\n",
    "        cnv.width = ele.width; cnv.height = ele.height;\n",
    "        cnv.getContext('2d').drawImage(ele, 0, 0);\n",
    "        return cnv.toDataURL('image/jpeg').substring(22);    \n",
    "        \"\"\", driver.find_element_by_xpath('//*[@id=\"captcha\"]'))\n",
    "\n",
    "    with open(\"captcha_login.png\", 'wb') as image:\n",
    "        image.write(base64.b64decode(img_base64))\n",
    "    captcha_img = Image.open('captcha_login.png')\n",
    "    pil = np.array(captcha_img)\n",
    "    source = cv.cvtColor(pil, cv.COLOR_BGR2RGB)\n",
    "    ret,thres = cv.threshold(source, 127, 255, 0)#二值化\n",
    "    result = cv.medianBlur(thres, 3)#中值濾波\n",
    "    captcha_raw = pytesseract.image_to_string(result, lang='eng')\n",
    "    captcha = captcha_raw[:4]\n",
    "    return captcha\n",
    "\n",
    "my_options = Options()\n",
    "my_options.add_argument('--incognito')\n",
    "docId = {'吳佑佑':'11634 吳佑佑','陳訓徹':'10129 陳訓徹','林偉哲':'14856 林偉哲','林清泉':'10860 林清泉','羅福松':'30672 羅福松','徐郭堯':'10182 徐郭堯'}\n",
    "docId[doctor]\n",
    "driver = webdriver.Chrome('/Users/syuan/chromedriver 2', options = my_options)\n",
    "if doctor == '羅福松':\n",
    "    driver.get('https://register.cgmh.org.tw/Department/3/4A000A4A200A4A300A4A400A4A500A4A600A4A700A4A800A4A900A4AA00A4AC00A4AD00A4AF00A?id=0672&name=')\n",
    "elif doctor == '陳訓徹':\n",
    "    driver.get('https://register.cgmh.org.tw/Department/1/12120A121A0A121B0A121T0A?id=&name=%E9%99%B3%E8%A8%93%E5%BE%B9')\n",
    "elif doctor == '林偉哲':\n",
    "    driver.get('https://register.cgmh.org.tw/Department/8/83DA0A83DB0A?id=&name=%E6%9E%97%E5%81%89%E5%93%B2')\n",
    "elif doctor == '林清泉':\n",
    "    driver.get('https://register.cgmh.org.tw/Department/1/13500A135A0A135B0A?id=0860&name=')\n",
    "elif doctor == '徐郭堯':\n",
    "    driver.get('https://register.cgmh.org.tw/Department/3/32700A32720A32730A32740A32750A?id=&name=%E5%BE%90%E9%83%AD')\n",
    "elif doctor == '吳佑佑':\n",
    "    driver.get('https://register.cgmh.org.tw/Department/3/4F600A?id=1634&name=')\n",
    "search = docId[doctor]\n",
    "while True:\n",
    "    try:\n",
    "        driver.find_element_by_link_text(search).click()\n",
    "        break\n",
    "    except:\n",
    "        driver.refresh()\n",
    "        \n",
    "captcha = get_image_text()\n",
    "driver.find_element_by_id('idNumber').send_keys(ID)\n",
    "driver.find_element_by_id('birthday').send_keys(birth)\n",
    "driver.find_element_by_id('verification').send_keys(captcha)\n",
    "tap = driver.find_element_by_xpath('//a[@class=\"btn f18 mr20 btn-main PatQueryChick\"]')\n",
    "driver.execute_script('arguments[0].click();', tap)\n",
    "for i in range(6):\n",
    "    try:\n",
    "        driver.implicitly_wait(1)\n",
    "        submit = driver.find_element_by_xpath('//button[@class=\"btn f18 mr20 btn-main submitBut\"and@type=\"submit\"]')\n",
    "        driver.execute_script('arguments[0].click();', submit)\n",
    "        break\n",
    "    except:\n",
    "        wrong = driver.find_element_by_xpath('//button[@class=\"confirm\"and@tabindex=\"1\"]')\n",
    "        driver.execute_script('arguments[0].click();', wrong)\n",
    "        driver.find_element_by_id('verification').clear()\n",
    "        capClick = driver.find_element_by_xpath('//img[@class=\"mr8\"and@id=\"captcha\"]')\n",
    "        driver.execute_script('arguments[0].click();', capClick)\n",
    "        time.sleep(0.1)\n",
    "        captcha2 = get_image_text()\n",
    "        driver.find_element_by_id('verification').send_keys(captcha2) \n",
    "        tap2 = driver.find_element_by_xpath('//a[@class=\"btn f18 mr20 btn-main PatQueryChick\"]')\n",
    "        driver.execute_script('arguments[0].click();', tap2)\n",
    "driver.implicitly_wait(1)\n",
    "driver.execute_script(\"window.scrollBy(0,140)\")"
   ]
  },
  {
   "cell_type": "code",
   "execution_count": null,
   "metadata": {},
   "outputs": [],
   "source": []
  },
  {
   "cell_type": "code",
   "execution_count": null,
   "metadata": {},
   "outputs": [],
   "source": [
    "with smtplib.SMTP(host=\"smtp.gmail.com\", port=\"587\") as smtp:  # 設定SMTP伺服器\n",
    "    try:\n",
    "        smtp.ehlo()  # 驗證SMTP伺服器\n",
    "        smtp.starttls()  # 建立加密傳輸\n",
    "        smtp.login(\"ater33335@gmail.com\", \"jtwbeixlecbororw\")  # 登入寄件者gmail\n",
    "        smtp.send_message(content)  # 寄送郵件\n",
    "        print(\"Complete!\")\n",
    "    except Exception as e:\n",
    "        print(\"Error message: \", e)\n",
    "content = MIMEMultipart()  #建立MIMEMultipart物件\n",
    "content[\"subject\"] = \"熱門醫師掛號結果通知\"  #郵件標題\n",
    "content[\"from\"] = \"ater33335@gmail.com\"  #寄件者\n",
    "content[\"to\"] = eamil #收件者\n",
    "content.attach(MIMEText(\"掛號結果請詳圖片通知\"))  #郵件內容\n",
    "content.attach(MIMEImage(Path(\"/Users/syuan/result.png\").read_bytes()))  # 郵件圖片內容"
   ]
  },
  {
   "cell_type": "code",
   "execution_count": 14,
   "metadata": {},
   "outputs": [
    {
     "data": {
      "text/plain": [
       "'d2m8'"
      ]
     },
     "execution_count": 14,
     "metadata": {},
     "output_type": "execute_result"
    }
   ],
   "source": [
    "my_options=Options()\n",
    "my_options.add_argument('--incognito')\n",
    "driver=webdriver.Chrome('/Users/syuan/chromedriver 2',options=my_options)\n",
    "driver.get('https://register.cgmh.org.tw/Checkin/3/4A000A4A200A4A300A4A400A4A500A4A600A4A700A4A800A4A900A4AA00A4AC00A4AD00A4AF00A/20210906/0672/1')\n",
    "def get_image():\n",
    "    img_base64 = driver.execute_script(\"\"\"\n",
    "        var ele = arguments[0];\n",
    "        var cnv = document.createElement('canvas');\n",
    "        cnv.width = ele.width; cnv.height = ele.height;\n",
    "        cnv.getContext('2d').drawImage(ele, 0, 0);\n",
    "        return cnv.toDataURL('image/jpeg').substring(22);    \n",
    "        \"\"\", driver.find_element_by_xpath('//*[@id=\"captcha\"]'))\n",
    "\n",
    "    with open(\"captcha_login.png\", 'wb') as image:\n",
    "        image.write(base64.b64decode(img_base64))\n",
    "    captcha_img=Image.open('captcha_login.png')\n",
    "    pil=np.array(captcha_img)\n",
    "    source = cv.cvtColor(pil, cv.COLOR_BGR2RGB)\n",
    "    ret,thres=cv.threshold(source,127,255,0)#二值化\n",
    "    result = cv.medianBlur(thres, 3)#中值濾波\n",
    "    captcha_raw=pytesseract.image_to_string(result,lang='eng')\n",
    "    captcha=captcha_raw[:4]\n",
    "    return captcha\n",
    "get_image()"
   ]
  },
  {
   "cell_type": "code",
   "execution_count": null,
   "metadata": {},
   "outputs": [],
   "source": [
    "driver.maximize_window()\n",
    "driver.implicitly_wait(1)\n",
    "driver.execute_script ( \"document.body.style.zoom='0.5'\" ) #縮小\n",
    "tem=driver.find_element_by_tag_name('html')\n",
    "tem.send_keys(Keys.HOME)\n",
    "driver.implicitly_wait(1)\n",
    "driver.save_screenshot('screenshot')\n",
    "element=driver.find_element_by_xpath('//img[@class=\"mr8\"and@id=\"captcha\"and@alt=\"長庚醫療財團法人\"]')\n",
    "left=element.location['x']\n",
    "right=element.location['x']+element.size['width']\n",
    "top=element.location['y']\n",
    "bottom=element.location['y']+element.size['height']    \n",
    "captcha_img=Image.open('screenshot')\n",
    "img=captcha_img.crop((left,top,right,bottom))\n",
    "# plt.imshow(img)\n",
    "pil=np.array(img)\n",
    "source = cv.cvtColor(pil, cv.COLOR_BGR2RGB)\n",
    "ret,thres=cv.threshold(source,127,255,0)#二值化\n",
    "result = cv.medianBlur(thres, 3)#中值濾波\n",
    "captcha_raw=pytesseract.image_to_string(result,lang='eng')\n",
    "captcha=captcha_raw[:4]"
   ]
  }
 ],
 "metadata": {
  "kernelspec": {
   "display_name": "Python 3",
   "language": "python",
   "name": "python3"
  },
  "language_info": {
   "codemirror_mode": {
    "name": "ipython",
    "version": 3
   },
   "file_extension": ".py",
   "mimetype": "text/x-python",
   "name": "python",
   "nbconvert_exporter": "python",
   "pygments_lexer": "ipython3",
   "version": "3.8.5"
  }
 },
 "nbformat": 4,
 "nbformat_minor": 4
}
